{
 "cells": [
  {
   "cell_type": "markdown",
   "metadata": {},
   "source": [
    "# Jupyter notebook to extract COVID data for Nepal from an API and aggregate the data on the basis of date and admins (municipality, district, and province)."
   ]
  },
  {
   "cell_type": "markdown",
   "metadata": {},
   "source": [
    "#### _Work done by Nepal Poverty Team, The World Bank_"
   ]
  },
  {
   "cell_type": "markdown",
   "metadata": {},
   "source": [
    "## API\n",
    "1. [Nepal Coronavirus Information](https://nepalcorona.info/)"
   ]
  },
  {
   "cell_type": "markdown",
   "metadata": {},
   "source": [
    "We have used Python 3 and produced the Python 3 Jupyter notebook showing data cleaning and merging."
   ]
  },
  {
   "cell_type": "markdown",
   "metadata": {},
   "source": [
    "## Setup"
   ]
  },
  {
   "cell_type": "markdown",
   "metadata": {},
   "source": [
    "Running of this notebook requires Jupyter software system. Either Jupyter notebook or Jupyter lab can be installed on the system. In addition, a Python package, _pandas_, is required."
   ]
  },
  {
   "cell_type": "markdown",
   "metadata": {},
   "source": [
    "### Jupyter Software Installation\n",
    "https://jupyter.org/install\n",
    "\n",
    "### pandas Package Installation\n",
    "https://pandas.pydata.org/pandas-docs/stable/getting_started/install.html"
   ]
  },
  {
   "cell_type": "markdown",
   "metadata": {},
   "source": [
    "After all the dependencies are installed the notebook can be imported to the Jupyter software and run."
   ]
  },
  {
   "cell_type": "markdown",
   "metadata": {},
   "source": [
    "## Imports"
   ]
  },
  {
   "cell_type": "code",
   "execution_count": 195,
   "metadata": {},
   "outputs": [],
   "source": [
    "import requests\n",
    "import json\n",
    "import pandas as pd"
   ]
  },
  {
   "cell_type": "markdown",
   "metadata": {},
   "source": [
    "## API URLs"
   ]
  },
  {
   "cell_type": "code",
   "execution_count": 196,
   "metadata": {},
   "outputs": [],
   "source": [
    "# API urls to extract districts data, municipalities data and individual covid cases data\n",
    "districts_url = 'https://data.nepalcorona.info/api/v1/districts'\n",
    "municipals_url = 'https://data.nepalcorona.info/api/v1/municipals'\n",
    "covid_cases_url = 'https://data.nepalcorona.info/api/v1/covid'"
   ]
  },
  {
   "cell_type": "markdown",
   "metadata": {},
   "source": [
    "## Function to extract data from API URL"
   ]
  },
  {
   "cell_type": "code",
   "execution_count": 197,
   "metadata": {},
   "outputs": [],
   "source": [
    "# function to get list of dictionaries from URL\n",
    "def get_data_from_url(url):\n",
    "    \"\"\"\n",
    "    Gets list of dictionaries from the API URL.\n",
    "    \n",
    "    Params:\n",
    "    url (str): URL for the API\n",
    "    \"\"\"\n",
    "    response = requests.get(url)\n",
    "    response_content = response.content.decode()\n",
    "    return json.loads(response_content)"
   ]
  },
  {
   "cell_type": "markdown",
   "metadata": {},
   "source": [
    "## Data preprocessing -- extraction and wrangling"
   ]
  },
  {
   "cell_type": "code",
   "execution_count": 198,
   "metadata": {},
   "outputs": [],
   "source": [
    "# get data for districts, municipalities and individual COVID cases\n",
    "districts = get_data_from_url(districts_url)\n",
    "municipals = get_data_from_url(municipals_url)\n",
    "covid_cases = get_data_from_url(covid_cases_url)\n",
    "\n",
    "# store the data in dataframe using pd.DataFrame constructor\n",
    "districts = pd.DataFrame(districts)\n",
    "municipals = pd.DataFrame(municipals)\n",
    "covid_cases = pd.DataFrame(covid_cases)\n",
    "\n",
    "# add a column in municipals -- district_en -- which stores districts names\n",
    "municipals['district_en'] = municipals['district'].map(dict(zip(districts['id'], districts['title_en'])))\n",
    "\n",
    "# helper function to strip the whitespaces\n",
    "def clean(name):\n",
    "    return name.strip()\n",
    "\n",
    "# concatenate two columns, municipality name and municipality type to get the full municipality name\n",
    "municipals['municipal_en'] = municipals['title_en'].apply(clean) + ' ' + municipals['type'].apply(clean)\n",
    "\n",
    "# add municipality and district names in the covid cases dataframe\n",
    "covid_cases['municipality_name'] = covid_cases['municipality'].map(dict(zip(municipals['id'], municipals['municipal_en'])))\n",
    "covid_cases['district_name'] = covid_cases['district'].map(dict(zip(municipals['district'], municipals['district_en'])))\n",
    "\n",
    "# convert the string date format into proper pandas date format\n",
    "covid_cases['date'] = pd.to_datetime(covid_cases['createdOn']).dt.date"
   ]
  },
  {
   "cell_type": "markdown",
   "metadata": {},
   "source": [
    "## Data aggregation"
   ]
  },
  {
   "cell_type": "code",
   "execution_count": 199,
   "metadata": {},
   "outputs": [],
   "source": [
    "# aggregate the data by date and municipality\n",
    "date_muni_covid_cases = covid_cases.groupby(['date', 'province', 'district_name', 'municipality_name']).agg('count')['id'].reset_index()\n",
    "date_muni_covid_cases = date_muni_covid_cases.rename(columns={'id': 'cases_count'})\n",
    "\n",
    "# aggregate the data by date and district\n",
    "date_dist_covid_cases = covid_cases.groupby(['date', 'province', 'district_name']).agg('count')['id'].reset_index()\n",
    "date_dist_covid_cases = date_dist_covid_cases.rename(columns={'id': 'cases_count'})\n",
    "\n",
    "# aggregate the data by date and province\n",
    "date_province_covid_cases = covid_cases.groupby(['date', 'province']).agg('count')['id'].reset_index()\n",
    "date_province_covid_cases = date_province_covid_cases.rename(columns={'id': 'cases_count'})"
   ]
  },
  {
   "cell_type": "code",
   "execution_count": 200,
   "metadata": {},
   "outputs": [],
   "source": [
    "# aggregate up-to-date data by municipality\n",
    "municipals['cases_count'] = municipals['id'].map(dict(covid_cases.groupby('municipality').agg('count')['id']))\n",
    "\n",
    "# aggregate up-to-date data by district\n",
    "districts['cases_count'] = districts['id'].map(dict(covid_cases.groupby('district').agg('count')['id']))\n",
    "\n",
    "# aggregate up-to-date data by province\n",
    "provinces = pd.DataFrame({'province': [1, 2, 3, 4, 5, 6, 7]})\n",
    "provinces['cases_count'] = provinces['province'].map(dict(covid_cases.groupby('province').agg('count')['id']))"
   ]
  },
  {
   "cell_type": "markdown",
   "metadata": {},
   "source": [
    "## Validation"
   ]
  },
  {
   "cell_type": "markdown",
   "metadata": {},
   "source": [
    "If some error pops up in the below *assertion* code, make sure to check the cleaning and aggregation section. The error shows that the cleaning and/or aggregation might not have been done correctly."
   ]
  },
  {
   "cell_type": "code",
   "execution_count": 204,
   "metadata": {},
   "outputs": [],
   "source": [
    "assert date_muni_covid_cases['cases_count'].sum() == covid_cases.shape[0]\n",
    "assert date_dist_covid_cases['cases_count'].sum() == covid_cases.shape[0]\n",
    "assert date_province_covid_cases['cases_count'].sum() == covid_cases.shape[0]\n",
    "assert municipals['cases_count'].sum() == covid_cases.shape[0]\n",
    "assert districts['cases_count'].sum() == covid_cases.shape[0]\n",
    "assert provinces['cases_count'].sum() == covid_cases.shape[0]"
   ]
  },
  {
   "cell_type": "markdown",
   "metadata": {},
   "source": [
    "## Export"
   ]
  },
  {
   "cell_type": "code",
   "execution_count": 205,
   "metadata": {},
   "outputs": [],
   "source": [
    "# export the aggregates to Nepal COVID folder\n",
    "\n",
    "date_muni_covid_cases.to_csv('Nepal COVID/date_muni_covid_cases.csv', index=False)\n",
    "date_dist_covid_cases.to_csv('Nepal COVID/date_dist_covid_cases.csv', index=False)\n",
    "date_province_covid_cases.to_csv('Nepal COVID/date_province_covid_cases.csv', index=False)\n",
    "\n",
    "covid_cases.to_csv('Nepal COVID/individual_covid_cases.csv', index=False)\n",
    "municipals.to_csv('Nepal COVID/municipal_covid_cases.csv', index=False)\n",
    "districts.to_csv('Nepal COVID/district_covid_cases.csv', index=False)\n",
    "provinces.to_csv('Nepal COVID/province_covid_cases.csv', index=False)"
   ]
  }
 ],
 "metadata": {
  "kernelspec": {
   "display_name": "Python 3",
   "language": "python",
   "name": "python3"
  },
  "language_info": {
   "codemirror_mode": {
    "name": "ipython",
    "version": 3
   },
   "file_extension": ".py",
   "mimetype": "text/x-python",
   "name": "python",
   "nbconvert_exporter": "python",
   "pygments_lexer": "ipython3",
   "version": "3.6.9"
  }
 },
 "nbformat": 4,
 "nbformat_minor": 2
}
