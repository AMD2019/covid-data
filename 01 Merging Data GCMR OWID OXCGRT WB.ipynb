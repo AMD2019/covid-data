{
 "cells": [
  {
   "cell_type": "markdown",
   "metadata": {},
   "source": [
    "# Jupyter Notebook to Merge COVID Related Data From Multiple Data Sources "
   ]
  },
  {
   "cell_type": "markdown",
   "metadata": {},
   "source": [
    "#### _Work done by Nepal Poverty Team, The World Bank_"
   ]
  },
  {
   "cell_type": "markdown",
   "metadata": {},
   "source": [
    "## Data Sources:\n",
    "1. [Google Community Mobility Reports](https://www.google.com/covid19/mobility/)\n",
    "2. [The Oxford COVID-19 Government Response Tracker](https://www.bsg.ox.ac.uk/research/research-projects/coronavirus-government-response-tracker) \n",
    "3. [Our World in Data](https://ourworldindata.org/coronavirus) \n",
    "4. [World Bank's list of economies](https://datahelpdesk.worldbank.org/knowledgebase/articles/906519-world-bank-country-and-lending-groups)"
   ]
  },
  {
   "cell_type": "markdown",
   "metadata": {},
   "source": [
    "We have used Python 3 and produced the Python 3 Jupyter notebook showing data cleaning and merging."
   ]
  },
  {
   "cell_type": "markdown",
   "metadata": {},
   "source": [
    "## Setup"
   ]
  },
  {
   "cell_type": "markdown",
   "metadata": {},
   "source": [
    "Running of this notebook requires Jupyter software system. Either Jupyter notebook or Jupyter lab can be installed on the system. In addition, two additional Python packages -- pycountry and pandas -- are required."
   ]
  },
  {
   "cell_type": "markdown",
   "metadata": {},
   "source": [
    "### Jupyter Software Installation\n",
    "https://jupyter.org/install\n",
    "\n",
    "### pycountry Package Installation\n",
    "https://pypi.org/project/pycountry/\n",
    "\n",
    "### pandas Package Installation\n",
    "https://pandas.pydata.org/pandas-docs/stable/getting_started/install.html"
   ]
  },
  {
   "cell_type": "markdown",
   "metadata": {},
   "source": [
    "After all the dependencies are installed the notebook can be imported to the Jupyter software and run."
   ]
  },
  {
   "cell_type": "markdown",
   "metadata": {},
   "source": [
    "## Imports"
   ]
  },
  {
   "cell_type": "code",
   "execution_count": 6,
   "metadata": {},
   "outputs": [],
   "source": [
    "import time\n",
    "import datetime\n",
    "import requests\n",
    "import pycountry\n",
    "import pandas as pd"
   ]
  },
  {
   "cell_type": "markdown",
   "metadata": {},
   "source": [
    "## Save the column names of latest CSV file in a list"
   ]
  },
  {
   "cell_type": "code",
   "execution_count": 7,
   "metadata": {},
   "outputs": [],
   "source": [
    "latest_CSV_file = 'GCMR_OWID_OxCGRT_WB_1593014927.5399244.csv'\n",
    "columns = pd.read_csv(latest_CSV_file, nrows=1).columns.tolist()\n",
    "drop_columns = set(['OXCGRT_Date', 'OXCGRT_CountryCode', 'OWID_iso_code', 'OWID_date', 'GCMR_country_region_code', 'GCMR_date'])"
   ]
  },
  {
   "cell_type": "markdown",
   "metadata": {},
   "source": [
    "## Data extraction from URLs"
   ]
  },
  {
   "cell_type": "code",
   "execution_count": 8,
   "metadata": {},
   "outputs": [
    {
     "name": "stderr",
     "output_type": "stream",
     "text": [
      "/home/regmi/envs/data_analysis/lib/python3.6/site-packages/IPython/core/interactiveshell.py:2728: DtypeWarning: Columns (3) have mixed types. Specify dtype option on import or set low_memory=False.\n",
      "  interactivity=interactivity, compiler=compiler, result=result)\n"
     ]
    },
    {
     "name": "stdout",
     "output_type": "stream",
     "text": [
      "Google mobility data fetched.\n",
      "OWID data fetched.\n",
      "OxCGRT data fetched.\n"
     ]
    }
   ],
   "source": [
    "# getting data from the web URLs\n",
    "\n",
    "google_url = \"https://www.gstatic.com/covid19/mobility/Global_Mobility_Report.csv\"\n",
    "google_data = pd.read_csv(google_url)\n",
    "print(\"Google mobility data fetched.\")\n",
    "\n",
    "owid_url = 'https://raw.githubusercontent.com/owid/covid-19-data/master/public/data/owid-covid-data.csv'\n",
    "owid_data = pd.read_csv(owid_url)\n",
    "print(\"OWID data fetched.\")\n",
    "\n",
    "oxford_url = 'https://raw.githubusercontent.com/OxCGRT/covid-policy-tracker/master/data/OxCGRT_latest.csv'\n",
    "oxford_data = pd.read_csv(oxford_url)\n",
    "print(\"OxCGRT data fetched.\")"
   ]
  },
  {
   "cell_type": "markdown",
   "metadata": {},
   "source": [
    "## Data cleaning"
   ]
  },
  {
   "cell_type": "markdown",
   "metadata": {},
   "source": [
    "We saw country region code for Namibia missing in the Google mobility data, so we add the country code for Namibia. Similarly, we add `INTL` as country code for International numbers. They are the numbers not belonging to any country."
   ]
  },
  {
   "cell_type": "code",
   "execution_count": 9,
   "metadata": {},
   "outputs": [],
   "source": [
    "# Add 'NAM' as country_region_code for Namibia\n",
    "\n",
    "google_data.loc[google_data[google_data['country_region'] == 'Namibia'].index, 'country_region_code'] = \"NA\"\n",
    "assert google_data['country_region_code'].isnull().sum() == 0"
   ]
  },
  {
   "cell_type": "code",
   "execution_count": 10,
   "metadata": {},
   "outputs": [],
   "source": [
    "# Add INTL as international ISO code for owid_data\n",
    "owid_data.loc[owid_data[owid_data['location'] == 'International'].index, 'iso_code'] = 'INTL'\n",
    "assert owid_data['iso_code'].isnull().sum() == 0\n",
    "\n",
    "# also assert oxford_data does not have any null country codes\n",
    "assert oxford_data['CountryCode'].isnull().sum() == 0"
   ]
  },
  {
   "cell_type": "markdown",
   "metadata": {},
   "source": [
    "Let's prepend the column names by `GCMR_`, `OWID_` and `OXCGRT_` for Google mobility data, OWID data and Oxford policy tracker data respectively. This helps us to distinguish the source of the columns."
   ]
  },
  {
   "cell_type": "code",
   "execution_count": 11,
   "metadata": {},
   "outputs": [],
   "source": [
    "# GCMR for Google Community Mobility Report\n",
    "google_data.columns = ['GCMR_' + i for i in google_data.columns]\n",
    "\n",
    "# OWID for Our World in Development\n",
    "owid_data.columns = ['OWID_' + i for i in owid_data.columns]\n",
    "\n",
    "# OXCGRT for Oxford COVID-19 Government Response Tracker\n",
    "oxford_data.columns = ['OXCGRT_' + i for i in oxford_data.columns]"
   ]
  },
  {
   "cell_type": "markdown",
   "metadata": {},
   "source": [
    "### Column names validation"
   ]
  },
  {
   "cell_type": "code",
   "execution_count": 30,
   "metadata": {},
   "outputs": [],
   "source": [
    "# raise error if any of the different column name has been used in any of the data or new column has been introduced\n",
    "# this should be fixed manually seeing the different or new column name\n",
    "assert set(google_data.columns).union(set(owid_data.columns)).union(set(oxford_data.columns)) - set(columns).union(drop_columns) == set()"
   ]
  },
  {
   "cell_type": "code",
   "execution_count": 6,
   "metadata": {},
   "outputs": [
    {
     "data": {
      "text/plain": [
       "((606467, 13), (28033, 34), (33108, 42))"
      ]
     },
     "execution_count": 6,
     "metadata": {},
     "output_type": "execute_result"
    }
   ],
   "source": [
    "google_data.shape, owid_data.shape, oxford_data.shape"
   ]
  },
  {
   "cell_type": "markdown",
   "metadata": {},
   "source": [
    "Let's bring date of Oxford policy tracker data to the desired, compatible date format."
   ]
  },
  {
   "cell_type": "code",
   "execution_count": 7,
   "metadata": {},
   "outputs": [],
   "source": [
    "oxford_data['OXCGRT_Date'] = oxford_data['OXCGRT_Date'].apply(lambda x: str(x)).apply(lambda x: x[:4] + '-' + x[4:6] + '-' + x[6:])"
   ]
  },
  {
   "cell_type": "markdown",
   "metadata": {},
   "source": [
    "## Outer merging of Oxford data, OWID data, and Google mobility data on country and date"
   ]
  },
  {
   "cell_type": "code",
   "execution_count": 8,
   "metadata": {},
   "outputs": [],
   "source": [
    "new_df = pd.merge(oxford_data, owid_data,  how='outer', left_on=['OXCGRT_CountryCode', 'OXCGRT_Date'], right_on = ['OWID_iso_code', 'OWID_date'])"
   ]
  },
  {
   "cell_type": "code",
   "execution_count": 9,
   "metadata": {},
   "outputs": [
    {
     "data": {
      "text/plain": [
       "(37465, 76)"
      ]
     },
     "execution_count": 9,
     "metadata": {},
     "output_type": "execute_result"
    }
   ],
   "source": [
    "new_df.shape"
   ]
  },
  {
   "cell_type": "markdown",
   "metadata": {},
   "source": [
    "Let's create a function <i>get_a_or_b</i> which gets either <i>a</i> or <i>b</i>, depending on which value is non-null. "
   ]
  },
  {
   "cell_type": "code",
   "execution_count": 10,
   "metadata": {},
   "outputs": [],
   "source": [
    "def get_a_or_b(row, a, b):\n",
    "    \n",
    "    row = row.fillna('')\n",
    "    \n",
    "    if row[a]:\n",
    "        return row[a]\n",
    "    elif row[b]:\n",
    "        return row[b]   "
   ]
  },
  {
   "cell_type": "markdown",
   "metadata": {},
   "source": [
    "Apply <i>get_a_or_b</i> to ISO codes and dates and save them in the two columns, `iso_code` and `date`. It helps to get the non-null columns, `iso_code` and `date`."
   ]
  },
  {
   "cell_type": "code",
   "execution_count": 11,
   "metadata": {},
   "outputs": [],
   "source": [
    "new_df['iso_code'] = new_df.apply(get_a_or_b, args=('OXCGRT_CountryCode', 'OWID_iso_code'), axis=1)\n",
    "new_df['date'] = new_df.apply(get_a_or_b, args=('OXCGRT_Date', 'OWID_date'), axis=1)"
   ]
  },
  {
   "cell_type": "markdown",
   "metadata": {},
   "source": [
    "Now, let's delete the columns we applied the function to."
   ]
  },
  {
   "cell_type": "code",
   "execution_count": 12,
   "metadata": {},
   "outputs": [],
   "source": [
    "new_df.drop(['OXCGRT_Date', 'OXCGRT_CountryCode', 'OWID_iso_code', 'OWID_date'], axis=1, inplace=True)"
   ]
  },
  {
   "cell_type": "markdown",
   "metadata": {},
   "source": [
    "We see two different set of country codes being used across the datasets -- two character and three character country codes (Example: NP and NPL for Nepal). Let's bring uniformity by converting the two character country codes to three character country codes using `pycountry` Python package."
   ]
  },
  {
   "cell_type": "code",
   "execution_count": 13,
   "metadata": {},
   "outputs": [],
   "source": [
    "google_data['GCMR_country_region_code'] = google_data['GCMR_country_region_code'].apply(lambda x: pycountry.countries.get(alpha_2=x).alpha_3)"
   ]
  },
  {
   "cell_type": "markdown",
   "metadata": {},
   "source": [
    "Let's now outer merge the above merged data with google data on country code and date."
   ]
  },
  {
   "cell_type": "code",
   "execution_count": 14,
   "metadata": {},
   "outputs": [],
   "source": [
    "final_df = pd.merge(google_data, new_df,  how='outer', left_on=['GCMR_country_region_code', 'GCMR_date'], right_on = ['iso_code', 'date'])"
   ]
  },
  {
   "cell_type": "markdown",
   "metadata": {},
   "source": [
    "Apply <i>get_a_or_b</i> to ISO codes and dates and assign them in the two columns, `iso_code` and `date`. It helps to get the non-null columns, `iso_code` and `date` -- same operation done as above."
   ]
  },
  {
   "cell_type": "code",
   "execution_count": 15,
   "metadata": {},
   "outputs": [],
   "source": [
    "final_df['iso_code'] = final_df.apply(get_a_or_b, args=('GCMR_country_region_code', 'iso_code'), axis=1)\n",
    "final_df['date'] = final_df.apply(get_a_or_b, args=('GCMR_date', 'date'), axis=1)"
   ]
  },
  {
   "cell_type": "markdown",
   "metadata": {},
   "source": [
    "Now, let's delete the columns we applied the function to."
   ]
  },
  {
   "cell_type": "code",
   "execution_count": 16,
   "metadata": {},
   "outputs": [],
   "source": [
    "final_df.drop(['GCMR_country_region_code', 'GCMR_date'], axis=1, inplace=True)"
   ]
  },
  {
   "cell_type": "markdown",
   "metadata": {},
   "source": [
    "Similarly, let's have one single column `Country` which represents the country the data row belongs to. As done above, we apply the <i>get_a_or_b</i> function two times."
   ]
  },
  {
   "cell_type": "code",
   "execution_count": 17,
   "metadata": {},
   "outputs": [],
   "source": [
    "final_df['Country'] = final_df.apply(get_a_or_b, args=('GCMR_country_region', 'OXCGRT_CountryName'), axis=1)"
   ]
  },
  {
   "cell_type": "code",
   "execution_count": 18,
   "metadata": {},
   "outputs": [],
   "source": [
    "final_df['Country'] = final_df.apply(get_a_or_b, args=('Country', 'OWID_location'), axis=1)"
   ]
  },
  {
   "cell_type": "markdown",
   "metadata": {},
   "source": [
    "## Merge with WB's `List of Economies` data"
   ]
  },
  {
   "cell_type": "code",
   "execution_count": 19,
   "metadata": {},
   "outputs": [],
   "source": [
    "economies = pd.read_excel('CLASS (1).xls', sheet_name='List of economies')"
   ]
  },
  {
   "cell_type": "markdown",
   "metadata": {},
   "source": [
    "### Preprocess the data"
   ]
  },
  {
   "cell_type": "code",
   "execution_count": 20,
   "metadata": {},
   "outputs": [],
   "source": [
    "economies.columns = economies.iloc[3, :]\n",
    "economies = economies.iloc[5:223, :]\n",
    "economies = economies[['Economy', 'Code', 'Region', 'Income group', 'Lending category', 'Other']]\n",
    "economies['Lending category'] = economies['Lending category'].replace(to_replace='\\.\\.', value='', regex=True)"
   ]
  },
  {
   "cell_type": "markdown",
   "metadata": {},
   "source": [
    "Prepend the columns with `WB_` to identify the columns coming from WB's `List of Economies` data."
   ]
  },
  {
   "cell_type": "code",
   "execution_count": 21,
   "metadata": {},
   "outputs": [],
   "source": [
    "economies.columns = ['WB_' + i for i in economies.columns]"
   ]
  },
  {
   "cell_type": "markdown",
   "metadata": {},
   "source": [
    "### Merge `final_df` and WB's economies data on country codes."
   ]
  },
  {
   "cell_type": "code",
   "execution_count": 23,
   "metadata": {},
   "outputs": [],
   "source": [
    "merged_df = pd.merge(final_df, economies,  how='outer', left_on=['iso_code'], right_on = ['WB_Code'])"
   ]
  },
  {
   "cell_type": "markdown",
   "metadata": {},
   "source": [
    "Apply the same function as above and assign the country name information in `Country` column."
   ]
  },
  {
   "cell_type": "code",
   "execution_count": 24,
   "metadata": {},
   "outputs": [],
   "source": [
    "merged_df['Country'] = merged_df.apply(get_a_or_b, args=('Country', 'WB_Economy'), axis=1)"
   ]
  },
  {
   "cell_type": "markdown",
   "metadata": {},
   "source": [
    "## Add timestamp"
   ]
  },
  {
   "cell_type": "code",
   "execution_count": 42,
   "metadata": {},
   "outputs": [],
   "source": [
    "merged_df['Timestamp (UTC)'] = datetime.datetime.utcnow().__str__()"
   ]
  },
  {
   "cell_type": "markdown",
   "metadata": {},
   "source": [
    "## Export to CSV file"
   ]
  },
  {
   "cell_type": "code",
   "execution_count": 46,
   "metadata": {},
   "outputs": [],
   "source": [
    "merged_df.to_csv('~/OneDrive/WB/COVID/GCMR_OWID_OxCGRT_WB_{}.csv'.format(time.time()), index=False)"
   ]
  }
 ],
 "metadata": {
  "kernelspec": {
   "display_name": "Python 3",
   "language": "python",
   "name": "python3"
  },
  "language_info": {
   "codemirror_mode": {
    "name": "ipython",
    "version": 3
   },
   "file_extension": ".py",
   "mimetype": "text/x-python",
   "name": "python",
   "nbconvert_exporter": "python",
   "pygments_lexer": "ipython3",
   "version": "3.6.9"
  }
 },
 "nbformat": 4,
 "nbformat_minor": 2
}
